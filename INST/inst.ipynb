{
 "cells": [
  {
   "cell_type": "markdown",
   "id": "149d8123",
   "metadata": {},
   "source": [
    "INSTAGRAM DATASETS"
   ]
  },
  {
   "cell_type": "code",
   "execution_count": 2,
   "id": "aa30e4ca",
   "metadata": {},
   "outputs": [],
   "source": [
    "#importing necessary libraries\n",
    "import pandas as pd\n",
    "import numpy as np\n",
    "import matplotlib.pyplot as plt\n",
    "import seaborn as sns\n",
    "from sklearn.model_selection import train_test_split\n",
    "from sklearn.preprocessing import StandardScaler\n",
    "from sklearn.linear_model import LinearRegression\n",
    "from sklearn.ensemble import RandomForestRegressor\n",
    "from sklearn.metrics import mean_squared_error, r2_score"
   ]
  },
  {
   "cell_type": "code",
   "execution_count": 3,
   "id": "e195257e",
   "metadata": {},
   "outputs": [],
   "source": [
    "#loading the dataset\n",
    "data = pd.read_csv(\"C:/Users/DELL/Downloads/train.csv\")"
   ]
  },
  {
   "cell_type": "code",
   "execution_count": 4,
   "id": "be5a7b7e",
   "metadata": {},
   "outputs": [
    {
     "data": {
      "text/html": [
       "<div>\n",
       "<style scoped>\n",
       "    .dataframe tbody tr th:only-of-type {\n",
       "        vertical-align: middle;\n",
       "    }\n",
       "\n",
       "    .dataframe tbody tr th {\n",
       "        vertical-align: top;\n",
       "    }\n",
       "\n",
       "    .dataframe thead th {\n",
       "        text-align: right;\n",
       "    }\n",
       "</style>\n",
       "<table border=\"1\" class=\"dataframe\">\n",
       "  <thead>\n",
       "    <tr style=\"text-align: right;\">\n",
       "      <th></th>\n",
       "      <th>profile pic</th>\n",
       "      <th>nums/length username</th>\n",
       "      <th>fullname words</th>\n",
       "      <th>nums/length fullname</th>\n",
       "      <th>name==username</th>\n",
       "      <th>description length</th>\n",
       "      <th>external URL</th>\n",
       "      <th>private</th>\n",
       "      <th>#posts</th>\n",
       "      <th>#followers</th>\n",
       "      <th>#follows</th>\n",
       "      <th>fake</th>\n",
       "    </tr>\n",
       "  </thead>\n",
       "  <tbody>\n",
       "    <tr>\n",
       "      <th>0</th>\n",
       "      <td>1</td>\n",
       "      <td>0.27</td>\n",
       "      <td>0</td>\n",
       "      <td>0.0</td>\n",
       "      <td>0</td>\n",
       "      <td>53</td>\n",
       "      <td>0</td>\n",
       "      <td>0</td>\n",
       "      <td>32</td>\n",
       "      <td>1000</td>\n",
       "      <td>955</td>\n",
       "      <td>0</td>\n",
       "    </tr>\n",
       "    <tr>\n",
       "      <th>1</th>\n",
       "      <td>1</td>\n",
       "      <td>0.00</td>\n",
       "      <td>2</td>\n",
       "      <td>0.0</td>\n",
       "      <td>0</td>\n",
       "      <td>44</td>\n",
       "      <td>0</td>\n",
       "      <td>0</td>\n",
       "      <td>286</td>\n",
       "      <td>2740</td>\n",
       "      <td>533</td>\n",
       "      <td>0</td>\n",
       "    </tr>\n",
       "    <tr>\n",
       "      <th>2</th>\n",
       "      <td>1</td>\n",
       "      <td>0.10</td>\n",
       "      <td>2</td>\n",
       "      <td>0.0</td>\n",
       "      <td>0</td>\n",
       "      <td>0</td>\n",
       "      <td>0</td>\n",
       "      <td>1</td>\n",
       "      <td>13</td>\n",
       "      <td>159</td>\n",
       "      <td>98</td>\n",
       "      <td>0</td>\n",
       "    </tr>\n",
       "    <tr>\n",
       "      <th>3</th>\n",
       "      <td>1</td>\n",
       "      <td>0.00</td>\n",
       "      <td>1</td>\n",
       "      <td>0.0</td>\n",
       "      <td>0</td>\n",
       "      <td>82</td>\n",
       "      <td>0</td>\n",
       "      <td>0</td>\n",
       "      <td>679</td>\n",
       "      <td>414</td>\n",
       "      <td>651</td>\n",
       "      <td>0</td>\n",
       "    </tr>\n",
       "    <tr>\n",
       "      <th>4</th>\n",
       "      <td>1</td>\n",
       "      <td>0.00</td>\n",
       "      <td>2</td>\n",
       "      <td>0.0</td>\n",
       "      <td>0</td>\n",
       "      <td>0</td>\n",
       "      <td>0</td>\n",
       "      <td>1</td>\n",
       "      <td>6</td>\n",
       "      <td>151</td>\n",
       "      <td>126</td>\n",
       "      <td>0</td>\n",
       "    </tr>\n",
       "  </tbody>\n",
       "</table>\n",
       "</div>"
      ],
      "text/plain": [
       "   profile pic  nums/length username  fullname words  nums/length fullname  \\\n",
       "0            1                  0.27               0                   0.0   \n",
       "1            1                  0.00               2                   0.0   \n",
       "2            1                  0.10               2                   0.0   \n",
       "3            1                  0.00               1                   0.0   \n",
       "4            1                  0.00               2                   0.0   \n",
       "\n",
       "   name==username  description length  external URL  private  #posts  \\\n",
       "0               0                  53             0        0      32   \n",
       "1               0                  44             0        0     286   \n",
       "2               0                   0             0        1      13   \n",
       "3               0                  82             0        0     679   \n",
       "4               0                   0             0        1       6   \n",
       "\n",
       "   #followers  #follows  fake  \n",
       "0        1000       955     0  \n",
       "1        2740       533     0  \n",
       "2         159        98     0  \n",
       "3         414       651     0  \n",
       "4         151       126     0  "
      ]
     },
     "execution_count": 4,
     "metadata": {},
     "output_type": "execute_result"
    }
   ],
   "source": [
    "data.head()  # Display the first few rows of the dataset"
   ]
  },
  {
   "cell_type": "code",
   "execution_count": 5,
   "id": "f5178af0",
   "metadata": {},
   "outputs": [
    {
     "name": "stdout",
     "output_type": "stream",
     "text": [
      "<class 'pandas.core.frame.DataFrame'>\n",
      "RangeIndex: 576 entries, 0 to 575\n",
      "Data columns (total 12 columns):\n",
      " #   Column                Non-Null Count  Dtype  \n",
      "---  ------                --------------  -----  \n",
      " 0   profile pic           576 non-null    int64  \n",
      " 1   nums/length username  576 non-null    float64\n",
      " 2   fullname words        576 non-null    int64  \n",
      " 3   nums/length fullname  576 non-null    float64\n",
      " 4   name==username        576 non-null    int64  \n",
      " 5   description length    576 non-null    int64  \n",
      " 6   external URL          576 non-null    int64  \n",
      " 7   private               576 non-null    int64  \n",
      " 8   #posts                576 non-null    int64  \n",
      " 9   #followers            576 non-null    int64  \n",
      " 10  #follows              576 non-null    int64  \n",
      " 11  fake                  576 non-null    int64  \n",
      "dtypes: float64(2), int64(10)\n",
      "memory usage: 54.1 KB\n"
     ]
    }
   ],
   "source": [
    "data.info()  # Get a concise summary of the DataFrame"
   ]
  },
  {
   "cell_type": "code",
   "execution_count": 6,
   "id": "6d6d4326",
   "metadata": {},
   "outputs": [
    {
     "name": "stdout",
     "output_type": "stream",
     "text": [
      "Total records and fields in the dataset: (576, 12)\n"
     ]
    }
   ],
   "source": [
    "#total no. of records in the dataset\n",
    "\n",
    "print(f\"Total records and fields in the dataset:\",data.shape)"
   ]
  },
  {
   "cell_type": "markdown",
   "id": "b365eb81",
   "metadata": {},
   "source": [
    "HANDLING MISSING VALUES"
   ]
  },
  {
   "cell_type": "code",
   "execution_count": 7,
   "id": "f01a55e3",
   "metadata": {},
   "outputs": [
    {
     "name": "stdout",
     "output_type": "stream",
     "text": [
      "Missing values in each column:\n",
      "profile pic             0\n",
      "nums/length username    0\n",
      "fullname words          0\n",
      "nums/length fullname    0\n",
      "name==username          0\n",
      "description length      0\n",
      "external URL            0\n",
      "private                 0\n",
      "#posts                  0\n",
      "#followers              0\n",
      "#follows                0\n",
      "fake                    0\n",
      "dtype: int64\n"
     ]
    }
   ],
   "source": [
    "#no. of missing values in each column\n",
    "print(\"Missing values in each column:\")\n",
    "print(data.isnull().sum())\n"
   ]
  },
  {
   "cell_type": "markdown",
   "id": "0b105c3a",
   "metadata": {},
   "source": [
    "THERE IS AN ABSENCE OF MISSING VALUES IN EACH FIELD OF THE WHOLE DATASET"
   ]
  },
  {
   "cell_type": "markdown",
   "id": "df5d4cec",
   "metadata": {},
   "source": [
    "NOW , FEATURE ENGINEERING"
   ]
  },
  {
   "cell_type": "code",
   "execution_count": 8,
   "id": "adc8dd07",
   "metadata": {},
   "outputs": [
    {
     "name": "stdout",
     "output_type": "stream",
     "text": [
      "Unique values in each column:\n",
      "profile pic: 2 unique values\n",
      "nums/length username: 54 unique values\n",
      "fullname words: 9 unique values\n",
      "nums/length fullname: 25 unique values\n",
      "name==username: 2 unique values\n",
      "description length: 104 unique values\n",
      "external URL: 2 unique values\n",
      "private: 2 unique values\n",
      "#posts: 193 unique values\n",
      "#followers: 372 unique values\n",
      "#follows: 400 unique values\n",
      "fake: 2 unique values\n"
     ]
    }
   ],
   "source": [
    "#unique values in each column\n",
    "print(\"Unique values in each column:\")\n",
    "for column in data.columns:\n",
    "    print(f\"{column}: {data[column].nunique()} unique values\")"
   ]
  },
  {
   "cell_type": "markdown",
   "id": "b23b9f8e",
   "metadata": {},
   "source": [
    " Columns Overview:\n",
    " ● profile_pic: Binary (1 if the profile has a picture, 0 otherwise).\n",
    " ● nums/length username: Number of characters or numbers in the username.\n",
    " ● fullname words: Number of words in the full name.\n",
    " ● nums/length fullname: Character length and number count in the full name.\n",
    " ● name==username: Binary (1 if the username and full name are identical, 0\n",
    " otherwise).\n",
    " ● description length: Character length of the bio/description.\n",
    " ● external URL: Binary (1 if an external URL is present, 0 otherwise).\n",
    " ● private: Binary (1 if the profile is private, 0 otherwise).\n",
    " ● #posts: Number of posts.\n",
    " ● #followers: Number of followers.\n",
    " ● #follows: Number of accounts followed.\n",
    " ● fake: Target label (1 if fake, 0 if genuine)"
   ]
  },
  {
   "cell_type": "code",
   "execution_count": 9,
   "id": "29dc0525",
   "metadata": {},
   "outputs": [
    {
     "name": "stdout",
     "output_type": "stream",
     "text": [
      "fake\n",
      "0    288\n",
      "1    288\n",
      "Name: count, dtype: int64\n",
      "private\n",
      "0    356\n",
      "1    220\n",
      "Name: count, dtype: int64\n",
      "name==username\n",
      "0    556\n",
      "1     20\n",
      "Name: count, dtype: int64\n",
      "profile pic\n",
      "1    404\n",
      "0    172\n",
      "Name: count, dtype: int64\n"
     ]
    }
   ],
   "source": [
    "#values count in categorical columns \n",
    "print(data['fake'].value_counts())\n",
    "print(data['private'].value_counts())\n",
    "print(data['name==username'].value_counts())\n",
    "print(data['profile pic'].value_counts())\n"
   ]
  },
  {
   "cell_type": "markdown",
   "id": "5574150c",
   "metadata": {},
   "source": [
    "HERE, 0 & 1 ARE BINARY LABELS GIVEN TO EACH CATEGORICAL COLUMNS FOR SIGNIFYING YES AS '0' AND NO AS '1'"
   ]
  },
  {
   "cell_type": "markdown",
   "id": "77f09a0b",
   "metadata": {},
   "source": [
    "NOW, EDA"
   ]
  },
  {
   "cell_type": "code",
   "execution_count": 17,
   "id": "dd66dd82",
   "metadata": {},
   "outputs": [
    {
     "data": {
      "image/png": "[encoded data removed]",
      "text/plain": [
       "<Figure size 2000x1000 with 1 Axes>"
      ]
     },
     "metadata": {},
     "output_type": "display_data"
    }
   ],
   "source": [
    "# create bins for #followers column\n",
    "bins = [0, 25, 50, 100, 200, 300, 400, 500, 1000, 5000, 10000]\n",
    "# cut the #followers column into the bins\n",
    "data['#followers_bins'] = pd.cut(data['#followers'],bins=bins)\n",
    "# plot #followers with bins and show fake value counts\n",
    "plt.figure(figsize=(20,10))\n",
    "sns.countplot(x='#followers_bins', hue='fake', data=data)\n",
    "plt.show()"
   ]
  },
  {
   "cell_type": "markdown",
   "id": "702c350a",
   "metadata": {},
   "source": [
    "MORE FOLLOWERS IMPLIES TO LESS PROBABILITY OF ACCOUNT BEING FAKE"
   ]
  },
  {
   "cell_type": "code",
   "execution_count": 25,
   "id": "10f23537",
   "metadata": {},
   "outputs": [
    {
     "data": {
      "image/png": "[encoded data removed]",
      "text/plain": [
       "<Figure size 1500x500 with 1 Axes>"
      ]
     },
     "metadata": {},
     "output_type": "display_data"
    }
   ],
   "source": [
    "# plot nums/length username and show fake value counts\n",
    "plt.figure(figsize=(15,5))\n",
    "sns.countplot(x='nums/length username', hue='fake',data=data)\n",
    "plt.xticks(rotation = 90)\n",
    "plt.show()"
   ]
  },
  {
   "cell_type": "markdown",
   "id": "b9bd9034",
   "metadata": {},
   "source": [
    "LESS NUMS/LENGTH OF USERNAME , MORE PROBABLE IT IT GENIUNE ACCOUNT"
   ]
  },
  {
   "cell_type": "code",
   "execution_count": 30,
   "id": "d6029c23",
   "metadata": {},
   "outputs": [
    {
     "data": {
      "image/png": "[encoded data removed]",
      "text/plain": [
       "<Figure size 800x400 with 1 Axes>"
      ]
     },
     "metadata": {},
     "output_type": "display_data"
    }
   ],
   "source": [
    "# how is fake distributed amongst private accounts\n",
    "plt.figure(figsize=(8,4))\n",
    "sns.countplot(x='private', hue='fake', data=data)\n",
    "plt.show()"
   ]
  },
  {
   "cell_type": "markdown",
   "id": "e5928663",
   "metadata": {},
   "source": [
    "PRIVATE ACCOUNT HAVE MORE PROBABILITY TO BE GENIUNE "
   ]
  }
 ],
 "metadata": {
  "kernelspec": {
   "display_name": "Python 3",
   "language": "python",
   "name": "python3"
  },
  "language_info": {
   "codemirror_mode": {
    "name": "ipython",
    "version": 3
   },
   "file_extension": ".py",
   "mimetype": "text/x-python",
   "name": "python",
   "nbconvert_exporter": "python",
   "pygments_lexer": "ipython3",
   "version": "3.12.0"
  }
 },
 "nbformat": 4,
 "nbformat_minor": 5
}
